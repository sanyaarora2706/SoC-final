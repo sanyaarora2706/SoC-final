{
 "cells": [
  {
   "cell_type": "code",
   "execution_count": 15,
   "metadata": {
    "colab": {
     "base_uri": "https://localhost:8080/"
    },
    "id": "_TZGDyKKCzbu",
    "outputId": "3efc045c-ae9a-4a8a-c414-c2b7a83b1ac7"
   },
   "outputs": [
    {
     "name": "stdout",
     "output_type": "stream",
     "text": [
      "Requirement already satisfied: pafy in /usr/local/lib/python3.7/dist-packages (0.5.5)\n",
      "Requirement already satisfied: youtube-dl in /usr/local/lib/python3.7/dist-packages (2021.6.6)\n"
     ]
    }
   ],
   "source": [
    "!pip install pafy\n",
    "!pip install youtube-dl\n"
   ]
  },
  {
   "cell_type": "code",
   "execution_count": 16,
   "metadata": {
    "colab": {
     "base_uri": "https://localhost:8080/"
    },
    "id": "JaS-5rVrH6l2",
    "outputId": "7ae8c495-628e-4d39-d479-8314c11501ef"
   },
   "outputs": [
    {
     "name": "stdout",
     "output_type": "stream",
     "text": [
      "Drive already mounted at /content/drive; to attempt to forcibly remount, call drive.mount(\"/content/drive\", force_remount=True).\n"
     ]
    }
   ],
   "source": [
    "from google.colab import drive\n",
    "drive.mount('/content/drive')"
   ]
  },
  {
   "cell_type": "code",
   "execution_count": 17,
   "metadata": {
    "id": "REXysDIvJbmu"
   },
   "outputs": [],
   "source": [
    "import os\n",
    "path = '/content/drive/MyDrive/My_Pretrained'\n",
    "\n",
    "output_dir ='/content/drive/MyDrive/My_Pretrained'"
   ]
  },
  {
   "cell_type": "code",
   "execution_count": 18,
   "metadata": {
    "colab": {
     "base_uri": "https://localhost:8080/"
    },
    "id": "-j--cZFL8csz",
    "outputId": "ccb3f5b3-8116-40e2-b061-054d9e54d7cf"
   },
   "outputs": [
    {
     "name": "stdout",
     "output_type": "stream",
     "text": [
      "300\n"
     ]
    }
   ],
   "source": [
    "\n",
    "import cv2\n",
    "import numpy as np\n",
    "import pafy\n",
    "import time\n",
    "\n",
    "from google.colab.patches import cv2_imshow\n",
    "\n",
    "\n",
    "n = 10\n",
    "\n",
    "fourcc = cv2.VideoWriter_fourcc(*'XVID')\n",
    "w, h = 1280,720\n",
    "fourcc = cv2.VideoWriter_fourcc('m', 'p', '4', 'v')\n",
    "output_fps = 30\n",
    "output_movie = cv2.VideoWriter(os.path.join(output_dir,'output_video.avi'), fourcc, output_fps, (w, h))\n",
    "\n",
    "\n",
    "url = 'https://www.youtube.com/watch?v=iH1ZJVqJO3Y'\n",
    "vPafy = pafy.new(url)\n",
    "play = vPafy.getbest(preftype=\"mp4\")\n",
    "\n",
    "cap = cv2.VideoCapture(play.url)\n",
    "\n",
    "cap.set(3, 480)\n",
    " #width of the frame\n",
    "cap.set(4, 640) \n",
    "# height of the frame\n",
    "\n",
    "\n",
    "MODEL_MEAN_VALUES = (78.4263377603, 87.7689143744, 114.895847746)\n",
    "\n",
    "\n",
    "age_list = ['(0, 2)', '(4, 6)', '(8, 12)', '(15, 20)', '(25, 32)', '(38, 43)', '(48, 53)', '(60, 100)']\n",
    "\n",
    "gender_list = ['Male', 'Female']\n",
    "\n",
    "\n",
    "def load_caffe_models():\n",
    " \n",
    "  age_net = cv2.dnn.readNetFromCaffe(os.path.join(path,'deploy_age.prototxt'), os.path.join(path,'age_net.caffemodel'))\n",
    "  gender_net = cv2.dnn.readNetFromCaffe(os.path.join(path,'deploy_gender.prototxt'), os.path.join(path,'gender_net.caffemodel'))\n",
    "\n",
    "  return (age_net, gender_net)\n",
    "\n",
    "\n",
    "\n",
    "def video_detector(age_net, gender_net):\n",
    " \n",
    "  font = cv2.FONT_HERSHEY_SIMPLEX\n",
    "  framecount = 0\n",
    "\n",
    "  \n",
    "  while framecount < n*output_fps:\n",
    "\n",
    "      ret, image = cap.read()\n",
    "      framecount = framecount+1\n",
    "\n",
    "      face_cascade = cv2.CascadeClassifier(cv2.data.haarcascades + 'haarcascade_frontalface_alt.xml')\n",
    "      eye_cascade = cv2.CascadeClassifier(cv2.data.haarcascades + 'haarcascade_eye.xml')\n",
    "    \n",
    "      gray = cv2.cvtColor(image, cv2.COLOR_BGR2GRAY)\n",
    "\n",
    "      faces = face_cascade.detectMultiScale(gray, 1.1, 5)\n",
    "\n",
    "      for (x, y, w, h )in faces:\n",
    "        cv2.rectangle(image, (x, y), (x+w, y+h), (255, 255, 0), 2)\n",
    "\n",
    "      #Get Face \n",
    "        face_img = image[y:y+h, h:h+w].copy()\n",
    "        blob = cv2.dnn.blobFromImage(face_img, 1, (227, 227), MODEL_MEAN_VALUES, swapRB=False)\n",
    "\n",
    "      #give Gender\n",
    "        gender_net.setInput(blob)\n",
    "        gender_preds = gender_net.forward()\n",
    "        gender = gender_list[gender_preds[0].argmax()]\n",
    "       \n",
    "\n",
    "      #give Age\n",
    "        age_net.setInput(blob)\n",
    "        age_preds = age_net.forward()\n",
    "        age = age_list[age_preds[0].argmax()]\n",
    "      \n",
    "\n",
    "        overlay_text = \"%s %s\" % (gender, age)\n",
    "        cv2.putText(image, overlay_text, (x, y), font, 1, (255, 255, 255), 2, cv2.LINE_AA)\n",
    "      output_movie.write(image)\n",
    "  output_movie.release()\n",
    "  print(framecount)\n",
    "\n",
    "# finally Running made functions\n",
    "age_net, gender_net = load_caffe_models()\n",
    "\n",
    "video_detector(age_net, gender_net)"
   ]
  }
 ],
 "metadata": {
  "colab": {
   "collapsed_sections": [],
   "name": "code 1.ipynb",
   "provenance": []
  },
  "kernelspec": {
   "display_name": "Python 3",
   "language": "python",
   "name": "python3"
  },
  "language_info": {
   "codemirror_mode": {
    "name": "ipython",
    "version": 3
   },
   "file_extension": ".py",
   "mimetype": "text/x-python",
   "name": "python",
   "nbconvert_exporter": "python",
   "pygments_lexer": "ipython3",
   "version": "3.8.8"
  }
 },
 "nbformat": 4,
 "nbformat_minor": 1
}
